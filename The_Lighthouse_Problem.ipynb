{
 "metadata": {
  "name": "The_Lighthouse_Problem"
 },
 "nbformat": 3,
 "nbformat_minor": 0,
 "worksheets": [
  {
   "cells": [
    {
     "cell_type": "code",
     "collapsed": false,
     "input": [
      "# Pg. 29, Data analysis, Sivia 2006"
     ],
     "language": "python",
     "metadata": {},
     "outputs": [],
     "prompt_number": 296
    },
    {
     "cell_type": "code",
     "collapsed": false,
     "input": [
      "import numpy as np \n",
      "import scipy as sp\n",
      "import matplotlib as plt\n",
      "import math \n",
      "from random import *"
     ],
     "language": "python",
     "metadata": {},
     "outputs": [],
     "prompt_number": 297
    },
    {
     "cell_type": "code",
     "collapsed": false,
     "input": [
      "Beta = 10 # mts"
     ],
     "language": "python",
     "metadata": {},
     "outputs": [],
     "prompt_number": 298
    },
    {
     "cell_type": "code",
     "collapsed": false,
     "input": [
      "prob_of_X_given_alpha_Beta = 1.0\n",
      "prob_of_X_given_alpha_Beta2 = 1.0\n",
      "f = []\n",
      "for W in range (0, 30, 10):\n",
      "    W = randrange(-100, 100)\n",
      "    print W\n",
      "    f.append(W)\n",
      "for alpha in range (-100, 100):\n",
      "    prob_of_X_given_alpha_Beta = Beta / (pi*(Beta**2.0 + (f[i] - alpha)**2.0)) \n",
      "    #print prob_of_X_given_alpha_Beta\n",
      "#print '----------------'\n",
      "for i in range (len(f)):\n",
      "    prob_of_X_given_alpha_Beta2 *= prob_of_X_given_alpha_Beta\n",
      "    scatter(alpha, prob_of_X_given_alpha_Beta2*1e3)\n",
      "#print prob_of_X_given_alpha_Beta2\n",
      "    "
     ],
     "language": "python",
     "metadata": {},
     "outputs": [
      {
       "output_type": "stream",
       "stream": "stdout",
       "text": [
        "69\n",
        "-15\n",
        "49\n"
       ]
      },
      {
       "output_type": "display_data",
       "png": "[encoded data removed]"
      }
     ],
     "prompt_number": 328
    },
    {
     "cell_type": "code",
     "collapsed": false,
     "input": [
      "for alpha in range (1, 100):\n",
      "    h = Beta / (pi*(Beta**2.0 + (10 - alpha)**2.0))* Beta / (pi*(Beta**2.0 + (50 - alpha)**2.0))* Beta / (pi*(Beta**2.0 + (20 - alpha)**2.0))* Beta / (pi*(Beta**2.0 + (60 - alpha)**2.0))\n",
      "    scatter(alpha, h*1000000)\n",
      "    "
     ],
     "language": "python",
     "metadata": {},
     "outputs": [
      {
       "output_type": "display_data",
       "png": "[encoded data removed]"
      }
     ],
     "prompt_number": 324
    },
    {
     "cell_type": "code",
     "collapsed": false,
     "input": [
      "x = []\n",
      "for w in range(1, 4):\n",
      "    w = randrange(1, 100)\n",
      "    print w\n",
      "    x.append(w)\n",
      "    print x\n",
      "for i in range (len(x)):\n",
      "    print x[i]"
     ],
     "language": "python",
     "metadata": {},
     "outputs": [
      {
       "output_type": "stream",
       "stream": "stdout",
       "text": [
        "64\n",
        "[64]\n",
        "87\n",
        "[64, 87]\n",
        "83\n",
        "[64, 87, 83]\n",
        "64\n",
        "87\n",
        "83\n"
       ]
      }
     ],
     "prompt_number": 301
    },
    {
     "cell_type": "code",
     "collapsed": false,
     "input": [
      "m = 1\n",
      "for i in range(1, 4):\n",
      "    m *= i\n",
      "    print m, i\n"
     ],
     "language": "python",
     "metadata": {},
     "outputs": [
      {
       "output_type": "stream",
       "stream": "stdout",
       "text": [
        "1 1\n",
        "2 2\n",
        "6 3\n"
       ]
      }
     ],
     "prompt_number": 305
    },
    {
     "cell_type": "code",
     "collapsed": false,
     "input": [
      "d = [1, 5, 6]\n",
      "k = [2, 5, 2]\n",
      "print d[1]*k[2]"
     ],
     "language": "python",
     "metadata": {},
     "outputs": [
      {
       "output_type": "stream",
       "stream": "stdout",
       "text": [
        "10\n"
       ]
      }
     ],
     "prompt_number": 317
    },
    {
     "cell_type": "code",
     "collapsed": false,
     "input": [],
     "language": "python",
     "metadata": {},
     "outputs": []
    }
   ],
   "metadata": {}
  }
 ]
}