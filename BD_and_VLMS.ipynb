{
 "metadata": {
  "name": "BD_and_VLMS"
 },
 "nbformat": 3,
 "nbformat_minor": 0,
 "worksheets": [
  {
   "cells": [
    {
     "cell_type": "code",
     "collapsed": false,
     "input": [
      "import numpy as np \n",
      "from scipy import *\n",
      "import matplotlib as plt\n",
      "import math \n",
      "from random import *"
     ],
     "language": "python",
     "metadata": {},
     "outputs": [],
     "prompt_number": 1
    },
    {
     "cell_type": "code",
     "collapsed": false,
     "input": [
      "recordtype = dtype([('AR', float), ('DEC', float32), ('M_I', float32), ('x1', float32),('ID', str_, 20 ), ('x2', str_, 20), ('x3', str_, 20), ('x4', str_, 20), ('x5', str_, 20), ('x6', str_, 20), ('x7', str_, 20), ('x8', str_, 20), ('x9', str_, 20), ('x10', str_, 20), ('x11', str_, 20), ('x12', str_, 20), ('x13', str_, 20), ('x14', str_, 20), ('x15', str_, 20), ('x16', str_, 20), ('x17', str_, 20), ('x18', str_, 20), ('x19', str_, 20), ('x20', str_, 20), ('x21', str_, 20), ('M', int), ('E', int), ('N', int), ('F', int)])\n",
      "data = np.loadtxt(\"/home/nicolas/Dropbox/github/Bayesian_Homeworks/CBDA/input/candidates_OB1b_IJHKvista.cat\", dtype=recordtype)\n",
      "\n",
      "#recordtype = dtype([('AR', float32), ('DEC', int32), ('M_I', float32), ('ID', str_, 20 )])\n",
      "#people = array([('Joaquin', 51, 60.0), ('Cat', 18, 8.6)], dtype=recordtype\n",
      "\n",
      "\n",
      "F  = data[1][-1]\n",
      "\n",
      "f = open(\"JJD.dat\", \"w\")\n",
      "for i in range(26):\n",
      "    AR = data[i][0]\n",
      "    DEC = data[i][1]\n",
      "    M_I = data[i][2] \n",
      "    M = data[i][-4]\n",
      "    f.write(str(AR) + \"  \" + str(DEC) + \"\\n\" )\n",
      "    #print AR, DEC\n",
      "f.close()"
     ],
     "language": "python",
     "metadata": {},
     "outputs": [],
     "prompt_number": 50
    },
    {
     "cell_type": "code",
     "collapsed": false,
     "input": [
      "AR_VLMS = []\n",
      "Dec_VLMS = []\n",
      "AR_BD = []\n",
      "Dec_BD = []\n",
      "\n",
      "for i in range(266771):\n",
      "    M = data[i][-4]\n",
      "    E = data[i][-3]\n",
      "    N = data[i][-2]\n",
      "    F = data[i][-1]\n",
      "    AR = data[i][0]\n",
      "    DEC = data[i][1]\n",
      "    M_I = data[i][2]\n",
      "    Cand = M + E    \n",
      "    #print M, E, N, F, Cand\n",
      "    if M + E == 3:\n",
      "        if M_I < 17:\n",
      "            AR_VLMS.append(AR)\n",
      "            Dec_VLMS.append(DEC)\n",
      "        elif M_I > 17:\n",
      "            AR_BD.append(AR)\n",
      "            Dec_BD.append(DEC)\n",
      "        #print AR\n",
      "        \n",
      "print len(AR_VLMS), len(Dec_VLMS), len(AR_BD), len(Dec_BD), float(len(AR_VLMS)/len(AR_BD))    "
     ],
     "language": "python",
     "metadata": {},
     "outputs": [
      {
       "output_type": "stream",
       "stream": "stdout",
       "text": [
        "1806 1806 516 516 3.0\n"
       ]
      }
     ],
     "prompt_number": 96
    },
    {
     "cell_type": "code",
     "collapsed": false,
     "input": [
      "f = open('JJD_VLMS.dat', 'w')\n",
      "f.write(\"# AR          Dec\"  + \"\\n\")\n",
      "for i in range(len(AR_VLMS)):\n",
      "    f.write(str(AR_VLMS[i]) + \"  \" + str(Dec_VLMS[i]) + \"\\n\")\n",
      "f.close()\n",
      "\n",
      "f = open('JJD_BD.dat', 'w')\n",
      "f.write(\"# AR          Dec\"  + \"\\n\")\n",
      "for i in range(len(AR_BD)):\n",
      "    f.write(str(AR_BD[i]) + \"  \" + str(Dec_BD[i]) + \"\\n\")\n",
      "f.close()\n",
      "#print len(A_R)\n",
      "#print len(Dec)"
     ],
     "language": "python",
     "metadata": {},
     "outputs": [],
     "prompt_number": 101
    },
    {
     "cell_type": "code",
     "collapsed": false,
     "input": [],
     "language": "python",
     "metadata": {},
     "outputs": []
    }
   ],
   "metadata": {}
  }
 ]
}