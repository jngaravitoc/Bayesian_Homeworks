{
 "metadata": {
  "name": "Manupalating_Data"
 },
 "nbformat": 3,
 "nbformat_minor": 0,
 "worksheets": [
  {
   "cells": [
    {
     "cell_type": "code",
     "collapsed": false,
     "input": [
      "import numpy as np \n",
      "from scipy import *\n",
      "import matplotlib as plt\n",
      "import math \n",
      "from random import *"
     ],
     "language": "python",
     "metadata": {},
     "outputs": [],
     "prompt_number": 2
    },
    {
     "cell_type": "code",
     "collapsed": false,
     "input": [
      "#recordtype = dtype([('AR', float), ('DEC', float32),('l', float32),('b', float32),('Rhel', float32),('Rproy', float32),('Z', float32),('phi', float32)])\n",
      "data = np.loadtxt(\"/home/nicolas/Dropbox/github/Bayesian_Homeworks/CBDA/input/quest.rrab.cmj_akv.dat\")#, dtype=recordtype)\n"
     ],
     "language": "python",
     "metadata": {},
     "outputs": [],
     "prompt_number": 3
    },
    {
     "cell_type": "code",
     "collapsed": false,
     "input": [
      "AR = data[:,0]\n",
      "R_hel = data[:,4]\n",
      "print AR[1]"
     ],
     "language": "python",
     "metadata": {},
     "outputs": [
      {
       "output_type": "stream",
       "stream": "stdout",
       "text": [
        "62.136738\n"
       ]
      }
     ],
     "prompt_number": 4
    },
    {
     "cell_type": "code",
     "collapsed": false,
     "input": [
      "AR_cut = []\n",
      "R_hel_cut = []\n",
      "\n",
      "for i in range(len(AR)):\n",
      "    if AR[i] >= 60:\n",
      "        if AR[i] <= 140:\n",
      "            AR_cut.append(AR[i])\n",
      "            R_hel_cut.append(R_hel[i])"
     ],
     "language": "python",
     "metadata": {},
     "outputs": [],
     "prompt_number": 15
    },
    {
     "cell_type": "code",
     "collapsed": false,
     "input": [
      "f = open('Quest_cut.dat', 'w')\n",
      "f.write(\"#AR       R_hel\" + \"\\n\")\n",
      "for i in range(len(AR_cut)):\n",
      "    f.write(str(AR_cut[i]) + \"  \" + str(R_hel_cut[i]) + \"\\n\")\n",
      "f.close()\n",
      "#for i in range(len(AR_cut)):\n",
      "    #print AR_cut[i], R_hel_cut[i]"
     ],
     "language": "python",
     "metadata": {},
     "outputs": [],
     "prompt_number": 22
    },
    {
     "cell_type": "code",
     "collapsed": false,
     "input": [
      " "
     ],
     "language": "python",
     "metadata": {},
     "outputs": [],
     "prompt_number": 3
    },
    {
     "cell_type": "code",
     "collapsed": false,
     "input": [],
     "language": "python",
     "metadata": {},
     "outputs": [],
     "prompt_number": 3
    },
    {
     "cell_type": "code",
     "collapsed": false,
     "input": [],
     "language": "python",
     "metadata": {},
     "outputs": [],
     "prompt_number": 3
    },
    {
     "cell_type": "code",
     "collapsed": false,
     "input": [],
     "language": "python",
     "metadata": {},
     "outputs": []
    }
   ],
   "metadata": {}
  }
 ]
}