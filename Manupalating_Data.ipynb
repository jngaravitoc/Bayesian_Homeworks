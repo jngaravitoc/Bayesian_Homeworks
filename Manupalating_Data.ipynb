{
 "metadata": {
  "name": "Manupalating_Data"
 },
 "nbformat": 3,
 "nbformat_minor": 0,
 "worksheets": [
  {
   "cells": [
    {
     "cell_type": "code",
     "collapsed": false,
     "input": [
      "import numpy as np \n",
      "from scipy import *\n",
      "import matplotlib as plt\n",
      "import math \n",
      "from random import *"
     ],
     "language": "python",
     "metadata": {},
     "outputs": [],
     "prompt_number": 9
    },
    {
     "cell_type": "code",
     "collapsed": false,
     "input": [
      "#recordtype = dtype([('AR', float), ('DEC', float32),('l', float32),('b', float32),('Rhel', float32),('Rproy', float32),('Z', float32),('phi', float32)])\n",
      "data = np.loadtxt(\"/home/nicolas/Dropbox/github/Bayesian_Homeworks/CBDA/input/quest.rrab.cmj_akv.dat\")#, dtype=recordtype)\n"
     ],
     "language": "python",
     "metadata": {},
     "outputs": [],
     "prompt_number": 10
    },
    {
     "cell_type": "code",
     "collapsed": false,
     "input": [
      "AR = data[:,0]\n",
      "R_hel = data[:,4]\n",
      "R_proy = data[:,5]\n",
      "print len(AR)"
     ],
     "language": "python",
     "metadata": {},
     "outputs": [
      {
       "output_type": "stream",
       "stream": "stdout",
       "text": [
        "637\n"
       ]
      }
     ],
     "prompt_number": 17
    },
    {
     "cell_type": "code",
     "collapsed": false,
     "input": [
      "AR_cut = []\n",
      "R_hel_cut = []\n",
      "R_proy_cut = []\n",
      "for i in range(len(AR)):\n",
      "    if AR[i] >= 60:\n",
      "        if AR[i] <= 140:\n",
      "            if R_proy[i] <= 25:\n",
      "                if R_hel[i] <= 35:\n",
      "                    AR_cut.append(AR[i])\n",
      "                    R_hel_cut.append(R_hel[i])\n",
      "                    R_proy_cut.append(R_proy[i])\n",
      "print len(AR_cut)"
     ],
     "language": "python",
     "metadata": {},
     "outputs": [
      {
       "output_type": "stream",
       "stream": "stdout",
       "text": [
        "121\n"
       ]
      }
     ],
     "prompt_number": 18
    },
    {
     "cell_type": "code",
     "collapsed": false,
     "input": [
      "f = open('Quest_cut.dat', 'w')\n",
      "f.write(\"#AR       R_hel\" + \"\\n\")\n",
      "for i in range(len(AR_cut)):\n",
      "    print AR_cut[i], R_hel_cut[i]\n",
      "    f.write(str(AR_cut[i]) + \"  \" + str(R_hel_cut[i]) + \"\\n\")\n",
      "f.close()\n",
      "#for i in range(len(AR_cut)):\n",
      "    #print AR_cut[i], R_hel_cut[i]"
     ],
     "language": "python",
     "metadata": {},
     "outputs": [
      {
       "output_type": "stream",
       "stream": "stdout",
       "text": [
        "60.935722 17.085\n",
        "62.444096 12.974\n",
        "65.498161 11.474\n",
        "66.18334617 5.016\n",
        "67.418274 11.226\n",
        "68.1315975 18.499\n",
        "69.09350067 8.331\n",
        "70.002991 14.153\n",
        "70.51915767 9.387\n",
        "72.56553511 12.045\n",
        "73.5600755 8.628\n",
        "74.1311465 5.812\n",
        "74.83065725 18.136\n",
        "75.57256744 10.06\n",
        "76.6188105 10.213\n",
        "76.86052583 10.103\n",
        "77.025562 7.883\n",
        "77.32486983 8.813\n",
        "79.5195695 6.483\n",
        "81.863495 2.573\n",
        "82.25713333 9.324\n",
        "82.32310467 8.972\n",
        "82.43322578 13.76\n",
        "82.962585 15.611\n",
        "83.02581994 1.784\n",
        "83.29255033 6.354\n",
        "83.38764225 2.342\n",
        "83.61598683 10.363\n",
        "83.875684 10.174\n",
        "84.30140933 7.057\n",
        "84.40131788 16.34\n",
        "84.61864067 8.069\n",
        "84.7865675 1.569\n",
        "84.7979965 1.558\n",
        "84.938095 2.627\n",
        "85.028015 1.801\n",
        "85.48836778 13.698\n",
        "85.690361 3.068\n",
        "85.75068033 6.403\n",
        "85.87719517 8.802\n",
        "86.51933372 0.811\n",
        "86.72126963 8.663\n",
        "87.64975325 9.296\n",
        "88.10246833 9.028\n",
        "88.22583 11.847\n",
        "88.30918 8.307\n",
        "89.365982 12.235\n",
        "89.77256575 0.269\n",
        "90.50620653 15.688\n",
        "90.8247145 13.468\n",
        "91.826176 5.767\n",
        "95.60820279 15.616\n",
        "96.35556 0.179\n",
        "97.77279325 1.981\n",
        "98.91539975 5.547\n",
        "100.11255583 5.467\n",
        "100.68887584 10.273\n",
        "101.0036025 11.866\n",
        "104.68546667 4.801\n",
        "106.52273 3.477\n",
        "108.14528 3.144\n",
        "108.30044 11.727\n",
        "113.56453 13.961\n",
        "113.594155 8.978\n",
        "113.854935 8.647\n",
        "114.94604 6.755\n",
        "115.11191667 9.411\n",
        "115.25698375 14.129\n",
        "115.83589 9.2\n",
        "117.15743 15.655\n",
        "118.241735 12.257\n",
        "120.19815083 12.031\n",
        "120.220795 5.811\n",
        "120.87119 15.327\n",
        "121.13396 5.474\n",
        "121.29499444 17.806\n",
        "121.741935 18.457\n",
        "122.02266 12.207\n",
        "122.11596 18.631\n",
        "122.67668667 4.98\n",
        "123.21722 8.353\n",
        "123.58967278 16.486\n",
        "123.71485 16.383\n",
        "124.31650667 14.811\n",
        "124.69346667 11.081\n",
        "125.34598 17.308\n",
        "125.44335667 12.628\n",
        "125.52225833 7.803\n",
        "125.5483975 15.019\n",
        "125.9973 15.408\n",
        "126.22110833 16.191\n",
        "126.36299875 13.052\n",
        "126.40037833 17.781\n",
        "126.44021041 6.196\n",
        "126.52631667 12.677\n",
        "127.37157916 12.275\n",
        "128.0457725 7.283\n",
        "128.42550667 13.942\n",
        "129.04596667 11.442\n",
        "131.33978222 13.151\n",
        "131.40915389 13.042\n",
        "131.77326 12.473\n",
        "132.0275 15.411\n",
        "132.0518 20.908\n",
        "132.15569 11.698\n",
        "132.59708 14.938\n",
        "133.3541825 11.76\n",
        "133.8567025 11.023\n",
        "134.67674 18.636\n",
        "134.96902333 8.454\n",
        "61.68372 4.472\n",
        "75.90348 6.631\n",
        "90.968475 14.208\n",
        "131.1402 3.127\n",
        "137.91345 14.355\n",
        "139.93731 13.008\n",
        "60.075975 8.719\n",
        "135.012855 19.271\n",
        "139.02873 18.939\n",
        "139.33749 21.792\n",
        "139.72995 6.77\n"
       ]
      }
     ],
     "prompt_number": 20
    },
    {
     "cell_type": "code",
     "collapsed": false,
     "input": [
      "print len(R_hel_cut)"
     ],
     "language": "python",
     "metadata": {},
     "outputs": [
      {
       "output_type": "stream",
       "stream": "stdout",
       "text": [
        "121\n"
       ]
      }
     ],
     "prompt_number": 16
    },
    {
     "cell_type": "code",
     "collapsed": false,
     "input": [],
     "language": "python",
     "metadata": {},
     "outputs": [],
     "prompt_number": 3
    },
    {
     "cell_type": "code",
     "collapsed": false,
     "input": [],
     "language": "python",
     "metadata": {},
     "outputs": [],
     "prompt_number": 3
    },
    {
     "cell_type": "code",
     "collapsed": false,
     "input": [],
     "language": "python",
     "metadata": {},
     "outputs": []
    }
   ],
   "metadata": {}
  }
 ]
}