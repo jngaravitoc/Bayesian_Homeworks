{
 "metadata": {
  "name": "Untitled0"
 },
 "nbformat": 3,
 "nbformat_minor": 0,
 "worksheets": [
  {
   "cells": [
    {
     "cell_type": "code",
     "collapsed": false,
     "input": [
      "import numpy as pn \n",
      "from scipy import *\n",
      "import matplotlib as plt\n",
      "import math \n",
      "from random import *"
     ],
     "language": "python",
     "metadata": {},
     "outputs": [],
     "prompt_number": 24
    },
    {
     "cell_type": "code",
     "collapsed": false,
     "input": [
      "def Init_Distribution(nx, ny):\n",
      "    global X\n",
      "    global Y\n",
      "    X = np.random.random(10)*nx\n",
      "    Y = np.random.random(10)*ny\n",
      "    return X, Y\n",
      "\n",
      "Init_Distribution(10, 10)\n",
      "\n",
      "#ylim = ([0, 10])\n",
      "scatter(X, Y)\n",
      "print X, Y\n",
      "\n",
      "       "
     ],
     "language": "python",
     "metadata": {},
     "outputs": [
      {
       "output_type": "stream",
       "stream": "stdout",
       "text": [
        "[ 1.45524877  7.45297542  6.0522189   7.94341268  9.43175408  2.51719366\n",
        "  1.83305013  1.24007915  1.77420861  9.32613675] [ 0.42288968  2.24751575  8.39730315  2.58359482  5.22080925  3.35304634\n",
        "  5.54410467  4.17194945  1.36658377  4.1159584 ]\n"
       ]
      },
      {
       "output_type": "display_data",
       "png": "[encoded data removed]"
      }
     ],
     "prompt_number": 51
    },
    {
     "cell_type": "code",
     "collapsed": false,
     "input": [
      "def Neighbors(k, D):\n",
      "    for i in range(D):\n",
      "        for j in range(D):\n",
      "            d = sqrt((X-i)**2 + (Y-j)**2)\n",
      "            d2 = sorted(d)\n",
      "            global d3\n",
      "            d3 = d2[0:k]\n",
      "            return d3\n",
      "    \n",
      "Neighbors(2, 10)\n"
     ],
     "language": "python",
     "metadata": {},
     "outputs": [
      {
       "output_type": "pyout",
       "prompt_number": 86,
       "text": [
        "[1.5154486688645878, 2.2395015954245778]"
       ]
      }
     ],
     "prompt_number": 86
    },
    {
     "cell_type": "code",
     "collapsed": false,
     "input": [
      "# Analytical Solution, falta recuperar todos los d3 y revisar el teo para un caso\n",
      "k = range(1, 100)\n",
      "\n",
      "Neighbors(2, 10)\n",
      "for j in range (0, 2):\n",
      "    teo = sqrt(sum(d3[j]**2 / k[j]))\n",
      "    print teo  "
     ],
     "language": "python",
     "metadata": {},
     "outputs": [
      {
       "output_type": "stream",
       "stream": "stdout",
       "text": [
        "1.51544866886\n",
        "1.5835667646\n"
       ]
      }
     ],
     "prompt_number": 91
    },
    {
     "cell_type": "code",
     "collapsed": false,
     "input": [],
     "language": "python",
     "metadata": {},
     "outputs": []
    }
   ],
   "metadata": {}
  }
 ]
}