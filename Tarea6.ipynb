{
 "metadata": {
  "name": "Tarea6"
 },
 "nbformat": 3,
 "nbformat_minor": 0,
 "worksheets": [
  {
   "cells": [
    {
     "cell_type": "code",
     "collapsed": false,
     "input": [
      "import numpy as pn \n",
      "import scipy as sp\n",
      "import matplotlib as plt\n",
      "import math \n",
      "from random import *"
     ],
     "language": "python",
     "metadata": {},
     "outputs": [],
     "prompt_number": 1
    },
    {
     "cell_type": "code",
     "collapsed": false,
     "input": [
      "data_path = np.loadtxt('../Bayesian_Homeworks/datos_rc1.dat')\n",
      "\n",
      "m = data_path[:,0]\n",
      "sigma = data_path[:,1]\n",
      "\n",
      "print m, sigma, len(m)"
     ],
     "language": "python",
     "metadata": {},
     "outputs": [
      {
       "output_type": "stream",
       "stream": "stdout",
       "text": [
        "[ 20.77  21.37  21.22  21.38  21.81  20.75  20.79  21.8   21.4   21.16] [ 0.4   0.48  0.4   0.33  0.4   0.33  0.48  0.33  0.48  0.48] 10\n"
       ]
      }
     ],
     "prompt_number": 21
    },
    {
     "cell_type": "code",
     "collapsed": false,
     "input": [
      "D = exp((m - M_v + 5)/5)\n",
      "print D"
     ],
     "language": "python",
     "metadata": {},
     "outputs": [
      {
       "output_type": "stream",
       "stream": "stdout",
       "text": [
        "[ 155.0891325   174.8625086   169.69454046  175.21258358  190.94778238\n",
        "  154.47001503  155.71073139  190.56626846  175.91483748  167.67037525]\n"
       ]
      }
     ],
     "prompt_number": 81
    },
    {
     "cell_type": "code",
     "collapsed": false,
     "input": [
      "M_v = 0.55\n",
      "#D = [63.43, 63.68, 63.94, 68.85, 69.68, 71.8, 71.95, 72.85, 78.25, 78.41]\n",
      "#mv = [20.75, 20.77, 20.79, 21.16, 21.22, 21.37, 21.38, 21.4, 21.8, 21.81]\n",
      "#sig = [0.33, 0.4, 0.48, 0.48, 0.4, 0.48, 0.33, 0.48, 0.33, 0.4]\n",
      "\n",
      "Prob_D_m = (5/(np.sqrt(pi)*D*sigma))*exp(sum(-(m- 5*log(D)-5 + M_v)/(2*sigma**2))/140)\n",
      "print Prob_D_m\n",
      "\n",
      "\n"
     ],
     "language": "python",
     "metadata": {},
     "outputs": [
      {
       "output_type": "stream",
       "stream": "stdout",
       "text": [
        "[ 0.3439774   0.25423382  0.31437167  0.3690558   0.27938086  0.41861341\n",
        "  0.28550353  0.33932144  0.25271298  0.26513905]\n"
       ]
      }
     ],
     "prompt_number": 105
    }
   ],
   "metadata": {}
  }
 ]
}