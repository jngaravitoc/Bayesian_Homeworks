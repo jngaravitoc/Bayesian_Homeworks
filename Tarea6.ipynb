{
 "metadata": {
  "name": "Tarea6"
 },
 "nbformat": 3,
 "nbformat_minor": 0,
 "worksheets": [
  {
   "cells": [
    {
     "cell_type": "code",
     "collapsed": false,
     "input": [
      "import numpy as pn \n",
      "import scipy as sp\n",
      "import matplotlib as plt\n",
      "import math \n",
      "from random import *"
     ],
     "language": "python",
     "metadata": {},
     "outputs": [],
     "prompt_number": 1
    },
    {
     "cell_type": "code",
     "collapsed": false,
     "input": [
      "data_path = np.loadtxt('../Bayesian_Homeworks/datos_rc1.dat')\n",
      "\n",
      "m = data_path[:,0]\n",
      "sigma = data_path[:,1]\n",
      "M_v = 0.55\n",
      "\n",
      "#print m, sigma, len(m)\n",
      "\n"
     ],
     "language": "python",
     "metadata": {},
     "outputs": [],
     "prompt_number": 95
    },
    {
     "cell_type": "code",
     "collapsed": false,
     "input": [
      "w = sum(1/sigma**2) \n",
      "\n",
      "m0 = sum((1./w) * (m/(sigma**2))) - M_v - (log(10)/(5.*w))\n",
      "\n",
      "D_cecilia = 10 ** ((1./5.)* (m0 + 5))\n",
      "\n",
      "print D_cecilia"
     ],
     "language": "python",
     "metadata": {},
     "outputs": [
      {
       "output_type": "stream",
       "stream": "stdout",
       "text": [
        "138327.916676\n"
       ]
      }
     ],
     "prompt_number": 123
    },
    {
     "cell_type": "code",
     "collapsed": false,
     "input": [
      "w = sum(1/sigma**2) \n",
      "m_bar = (1 / w) * sum(m/sigma**2)\n",
      "D_teo = 10**( (1./5.)*(m_bar - M_v + 5.0 - (log(10)/(5.0*w)) ) )\n",
      "\n",
      "\n",
      "print w, m_bar, D_teo"
     ],
     "language": "python",
     "metadata": {},
     "outputs": [
      {
       "output_type": "stream",
       "stream": "stdout",
       "text": [
        "63.6593204775 21.2617832672 138327.916676\n"
       ]
      }
     ],
     "prompt_number": 121
    },
    {
     "cell_type": "code",
     "collapsed": false,
     "input": [
      "for D in range(70000, 180000, 1000):\n",
      "    Prob = prod((5.0 / ( sigma * sqrt(2*pi)*D * log(10))) * exp(-(m - (5*log10(D)- 5 + M_v))**2.0) / (2.0 * (sigma**2.0)))/(60000)\n",
      "    scatter(D/1000, Prob/(4.2401180609e-49))\n",
      "    \n",
      "    #print Prob\n",
      "    xlabel(r'$\\mathrm{Distancia}$ $(\\mathrm{Kpc})$', fontsize = 20)\n",
      "    ylabel(r'$\\mathrm{P(D|\\{m_{k}\\})}$', fontsize = 20)\n",
      "    axvline(x=130.739,linewidth=2,color='r',linestyle=\"--\")\n",
      "    axvline(x=D_teo/1000.,linewidth=2,color='r',linestyle=\"-\")\n",
      "    #axvline(x=124,linewidth=2,color='K',linestyle=\"-\")\n",
      "    #savefig('Bayes_Distance_Red_Clump.png')"
     ],
     "language": "python",
     "metadata": {},
     "outputs": [
      {
       "output_type": "display_data",
       "png": "[encoded data removed]"
      }
     ],
     "prompt_number": 118
    },
    {
     "cell_type": "code",
     "collapsed": false,
     "input": [
      "def Dvalues (M_v, sigma, m):\n",
      "    for D in range(70000, 180000, 1000):\n",
      "        Prob = (5.0 / ( D * log(10)) * exp(-(m - (5*log10(D)- 5 + M_v))**2.0) / (2.0 * (sigma**2.0)))/(60000)\n",
      "        return Prob"
     ],
     "language": "python",
     "metadata": {},
     "outputs": [],
     "prompt_number": 91
    },
    {
     "cell_type": "code",
     "collapsed": false,
     "input": [
      "Dvalues(0.55, sigma, m)"
     ],
     "language": "python",
     "metadata": {},
     "outputs": [
      {
       "output_type": "pyout",
       "prompt_number": 92,
       "text": [
        "array([  6.00919368e-10,   8.82704934e-11,   2.00517584e-10,\n",
        "         1.80874350e-10,   2.57460284e-11,   9.18355839e-10,\n",
        "         4.00870029e-10,   3.93940330e-11,   8.01448242e-11,\n",
        "         1.65008998e-10])"
       ]
      }
     ],
     "prompt_number": 92
    },
    {
     "cell_type": "code",
     "collapsed": false,
     "input": [
      "(2**2)**3\n"
     ],
     "language": "python",
     "metadata": {},
     "outputs": [
      {
       "output_type": "pyout",
       "prompt_number": 131,
       "text": [
        "64"
       ]
      }
     ],
     "prompt_number": 131
    },
    {
     "cell_type": "code",
     "collapsed": false,
     "input": [
      "2**6"
     ],
     "language": "python",
     "metadata": {},
     "outputs": [
      {
       "output_type": "pyout",
       "prompt_number": 133,
       "text": [
        "64"
       ]
      }
     ],
     "prompt_number": 133
    },
    {
     "cell_type": "code",
     "collapsed": false,
     "input": [],
     "language": "python",
     "metadata": {},
     "outputs": []
    }
   ],
   "metadata": {}
  }
 ]
}