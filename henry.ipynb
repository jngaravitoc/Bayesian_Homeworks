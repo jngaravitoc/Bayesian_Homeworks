{
 "metadata": {
  "name": "henry"
 },
 "nbformat": 3,
 "nbformat_minor": 0,
 "worksheets": [
  {
   "cells": [
    {
     "cell_type": "code",
     "collapsed": false,
     "input": [
      "%pylab inline # esto carga de una ves numpy y matplolitb"
     ],
     "language": "python",
     "metadata": {},
     "outputs": [
      {
       "output_type": "stream",
       "stream": "stdout",
       "text": [
        "\n",
        "Welcome to pylab, a matplotlib-based Python environment [backend: module://IPython.zmq.pylab.backend_inline].\n",
        "For more information, type 'help(pylab)'.\n"
       ]
      }
     ],
     "prompt_number": 1
    },
    {
     "cell_type": "code",
     "collapsed": false,
     "input": [
      "data = np.loadtxt('/home/Nicolas-Garavito/Dropbox/SeboLMC_2.dat', usecols=(9,10))\n",
      "# para evitar el string le decimos que columans usas con usecoles"
     ],
     "language": "python",
     "metadata": {},
     "outputs": [],
     "prompt_number": 2
    },
    {
     "cell_type": "code",
     "collapsed": false,
     "input": [
      "# Seleccionamos las columnas, el asi[filas, columnas] : significa todas\n",
      "X = data[:,0]\n",
      "Y = data[:,1]"
     ],
     "language": "python",
     "metadata": {},
     "outputs": [],
     "prompt_number": 14
    },
    {
     "cell_type": "code",
     "collapsed": false,
     "input": [
      "# aca verificamos que seleccionamos las columnas que son\n",
      "print X[0:10], Y[0: 10]"
     ],
     "language": "python",
     "metadata": {},
     "outputs": [
      {
       "output_type": "stream",
       "stream": "stdout",
       "text": [
        "[  8.84  13.74  22.56   3.59   8.74   5.02  15.85  20.08   3.34  34.43] [ 15.48  15.72  15.02  16.36  15.53  15.86  15.58  14.58  16.47  14.61]\n"
       ]
      }
     ],
     "prompt_number": 4
    },
    {
     "cell_type": "code",
     "collapsed": false,
     "input": [
      "plt.xscale('log') # poner log scale\n",
      "#plt.gca().invert_yaxis(), esto tambien sirve pa voltear los ejes\n",
      "plt.scatter(X, Y)# scatter plor \n",
      "plt.ylim([30, -2])# voltiamos los ejes"
     ],
     "language": "python",
     "metadata": {},
     "outputs": [
      {
       "output_type": "pyout",
       "prompt_number": 24,
       "text": [
        "(30, -2)"
       ]
      },
      {
       "output_type": "display_data",
       "png": "[encoded data removed]"
      }
     ],
     "prompt_number": 24
    },
    {
     "cell_type": "code",
     "collapsed": false,
     "input": [],
     "language": "python",
     "metadata": {},
     "outputs": []
    }
   ],
   "metadata": {}
  }
 ]
}